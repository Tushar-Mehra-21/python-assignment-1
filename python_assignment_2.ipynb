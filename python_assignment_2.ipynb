{
 "cells": [
  {
   "cell_type": "code",
   "execution_count": 43,
   "id": "70c672da",
   "metadata": {},
   "outputs": [
    {
     "name": "stdout",
     "output_type": "stream",
     "text": [
      "\n",
      "*\n",
      "**\n",
      "***\n",
      "****\n",
      "*****\n",
      "****\n",
      "***\n",
      "**\n",
      "*\n"
     ]
    }
   ],
   "source": [
    "# question 1\n",
    "\n",
    "for i in range(0,10):\n",
    "    if i<6:\n",
    "        for j in range(0,5):\n",
    "            if j<i :\n",
    "                print(\"*\",end='')\n",
    "        print(\"\")\n",
    "    \n",
    "    else:\n",
    "        for k in range(0,4):\n",
    "            if (i+k)<=9:\n",
    "                print(\"*\",end=\"\")\n",
    "        print(\"\")\n"
   ]
  },
  {
   "cell_type": "code",
   "execution_count": 46,
   "id": "b0ae3fba",
   "metadata": {},
   "outputs": [
    {
     "name": "stdout",
     "output_type": "stream",
     "text": [
      "Enter word to be reversed :- ineuron\n",
      "Reversed word :- norueni\n"
     ]
    }
   ],
   "source": [
    "# question 2\n",
    "\n",
    "n= input(\"Enter word to be reversed :- \")\n",
    "print(\"Reversed word :- \" + n[::-1])"
   ]
  },
  {
   "cell_type": "code",
   "execution_count": null,
   "id": "d898e9b2",
   "metadata": {},
   "outputs": [],
   "source": []
  }
 ],
 "metadata": {
  "kernelspec": {
   "display_name": "Python 3 (ipykernel)",
   "language": "python",
   "name": "python3"
  },
  "language_info": {
   "codemirror_mode": {
    "name": "ipython",
    "version": 3
   },
   "file_extension": ".py",
   "mimetype": "text/x-python",
   "name": "python",
   "nbconvert_exporter": "python",
   "pygments_lexer": "ipython3",
   "version": "3.9.12"
  }
 },
 "nbformat": 4,
 "nbformat_minor": 5
}
